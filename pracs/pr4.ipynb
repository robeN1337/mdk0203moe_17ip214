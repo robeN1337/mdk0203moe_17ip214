{
 "cells": [
  {
   "cell_type": "markdown",
   "id": "b4a658f0-fdb4-4f38-9d25-2c3c447511fd",
   "metadata": {},
   "source": [
    "# Практическая работа №4"
   ]
  },
  {
   "cell_type": "markdown",
   "id": "61c5fb7c-d6d5-4e00-b6df-3b1c465e6ddc",
   "metadata": {},
   "source": [
    "## Задача 3.1."
   ]
  },
  {
   "cell_type": "markdown",
   "id": "905d5b95-9d3d-46dd-b99c-e8bcff6ef3d4",
   "metadata": {},
   "source": [
    "а)"
   ]
  },
  {
   "cell_type": "code",
   "execution_count": null,
   "id": "37c35f84-08b4-4865-a8be-dfba349dbe11",
   "metadata": {},
   "outputs": [],
   "source": [
    "class BankAccount:\n",
    "    # \"\"\" Абстрактный базовый класс, представляющий банковский счет.\"\"\"\n",
    "    currency = '$'\n",
    "    def __init__(self, customer, account_number, balance=0):\n",
    "        # \"\"\"\n",
    "        # Инициализация класса BankAccount значениями имени клиента, номера счета и\n",
    "        # баланса при открытии счета (по умолчанию 0).\n",
    "        # \"\"\"\n",
    "        try:\n",
    "            ccno = str(account_number)\n",
    "            ccl = []\n",
    "            for n in ccno:\n",
    "                if n == ' ':\n",
    "                    continue\n",
    "                ccl.append(int(n))\n",
    "            for i in range(0,16,2):\n",
    "                ccl[i] *= 2\n",
    "                if ccl[i] > 9:\n",
    "                    ccl[i] = 1 + (ccl[i] - 10)\n",
    "            checksum = sum(ccl) % 10\n",
    "            if checksum:\n",
    "                raise ValueError()\n",
    "            else:\n",
    "                self.account_number = account_number\n",
    "                self.customer = customer\n",
    "                self.balance = balance\n",
    "                print(ccno, 'is a valid credit card number')\n",
    "        except:\n",
    "            raise ValueError(f'{ccno} is not a valid credit card number')\n",
    "\n",
    "def deposit(self, amount):\n",
    "    \"\"\" Deposit amount into the bank account.\"\"\"\n",
    "    # \"\"\"Размер вклада на банковский счет.\"\"\"\n",
    "    if amount > 0:\n",
    "        self.balance += amount\n",
    "    else:\n",
    "        print('Invalid deposit amount:', amount)\n",
    "\n",
    "def withdraw(self, amount):\n",
    "    # \"\"\"\n",
    "    # Сумма средств, снимаемых с банковского счета, при условии достаточной суммы\n",
    "    # на этом счете.\n",
    "    # \"\"\"\n",
    " \n",
    "    if amount > 0:\n",
    "        if amount > self.balance:\n",
    "            print('Insufficient funds')\n",
    "        else:\n",
    "            self.balance -= amount\n",
    "    else:\n",
    "        print('Invalid withdrawal amount:', amount)"
   ]
  },
  {
   "cell_type": "markdown",
   "id": "b0ea0a1e-325b-4d6a-8c5c-d59880537666",
   "metadata": {},
   "source": [
    "б)"
   ]
  },
  {
   "cell_type": "code",
   "execution_count": null,
   "id": "bf26ecd4-e7be-4d28-9a38-efb5c39b2fde",
   "metadata": {},
   "outputs": [],
   "source": [
    "class CurrentAccount(BankAccount):\n",
    "    # \"\"\" Класс, представляющий текущий (чековый) счет. \"\"\"\n",
    "    def __init__(self, customer, account_number, annual_fee, transaction_limit, overdraft, balance=0):\n",
    "        # \"\"\" Инициализация текущего счета. \"\"\"\n",
    "        self.annual_fee = annual_fee\n",
    "        self.transaction_limit = transaction_limit\n",
    "        self.overdraft = overdraft\n",
    "        super().__init__(customer, account_number, balance)\n",
    "        \n",
    "    def withdraw(self, amount):\n",
    "        # \"\"\"\n",
    "        # Снятие денежной суммы, если на счете имеется достаточно средств и снимаемая сумма\n",
    "        # меньше лимита, установленного для одной транзакции.\n",
    "        # \"\"\"\n",
    "        if amount <= (0 - self.overdraft):\n",
    "            print('Invalid withdrawal amount:', amount)\n",
    "            return\n",
    "        if amount > (self.balance + self.overdraft):\n",
    "            print('Insufficient funds')\n",
    "            return\n",
    "        if amount > self.transaction_limit:\n",
    "            print('{0:s}{1:.2f} exceeds the single transaction limit of {0:s}{2:.2f}'.format(self.currency, amount, self.transaction_limit))\n",
    "            return\n",
    "        self.balance -= amount\n",
    " \n",
    "    def apply_annual_fee(self):\n",
    "        # \"\"\" Удержание ежегодной оплаты с баланса счета. \"\"\"\n",
    "        self.balance = max(0., self.balance - self.annual_fee)\n",
    "\n",
    "    def print_balance(self):\n",
    "        # \"\"\" Вывод баланса счета. \"\"\"\n",
    "        print(self.balance)"
   ]
  }
 ],
 "metadata": {
  "kernelspec": {
   "display_name": "Python 3 (ipykernel)",
   "language": "python",
   "name": "python3"
  },
  "language_info": {
   "codemirror_mode": {
    "name": "ipython",
    "version": 3
   },
   "file_extension": ".py",
   "mimetype": "text/x-python",
   "name": "python",
   "nbconvert_exporter": "python",
   "pygments_lexer": "ipython3",
   "version": "3.12.7"
  }
 },
 "nbformat": 4,
 "nbformat_minor": 5
}
