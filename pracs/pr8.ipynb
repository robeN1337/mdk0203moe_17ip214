{
 "cells": [
  {
   "cell_type": "markdown",
   "id": "c34a4bbd-8764-44aa-ba2f-e69cc9be172d",
   "metadata": {},
   "source": [
    "## Задание B 1."
   ]
  },
  {
   "cell_type": "code",
   "execution_count": 2,
   "id": "ddc1c27e-b5ec-407e-8d69-e9df107f9720",
   "metadata": {},
   "outputs": [
    {
     "name": "stdout",
     "output_type": "stream",
     "text": [
      "8.48 μs ± 225 ns per loop (mean ± std. dev. of 7 runs, 100,000 loops each)\n",
      "68.5 μs ± 1.65 μs per loop (mean ± std. dev. of 7 runs, 10,000 loops each)\n"
     ]
    },
    {
     "data": {
      "text/plain": [
       "True"
      ]
     },
     "execution_count": 2,
     "metadata": {},
     "output_type": "execute_result"
    }
   ],
   "source": [
    "import numpy as np\n",
    "n = 512\n",
    "# Our input function is just random numbers\n",
    "f = np.random.rand(n)\n",
    "\n",
    "# Time the NumPy (Cooley-Tukey) DFT algorithm\n",
    "%timeit np.fft.fft(f)\n",
    "# 100000 loops, best of 3: 13.1 us per loop\n",
    "\n",
    "# Now calculate the DFT by direct summation\n",
    "k = np.arange(n)\n",
    "m = k.reshape((n, 1))\n",
    "w = np.exp(-2j * np.pi * m * k / n)\n",
    "%timeit np.dot(w, f)\n",
    "# 1000 loops, best of 3: 354 us per loop\n",
    "\n",
    "# Check the two methods produce the same result\n",
    "ftfast = np.fft.fft(f)\n",
    "ftslow = np.dot(w, f)\n",
    "np.allclose(ftfast, ftslow)"
   ]
  },
  {
   "cell_type": "code",
   "execution_count": null,
   "id": "f9043c44-a8c6-4249-b081-00677505565c",
   "metadata": {},
   "outputs": [],
   "source": []
  }
 ],
 "metadata": {
  "kernelspec": {
   "display_name": "Python 3 (ipykernel)",
   "language": "python",
   "name": "python3"
  },
  "language_info": {
   "codemirror_mode": {
    "name": "ipython",
    "version": 3
   },
   "file_extension": ".py",
   "mimetype": "text/x-python",
   "name": "python",
   "nbconvert_exporter": "python",
   "pygments_lexer": "ipython3",
   "version": "3.12.7"
  }
 },
 "nbformat": 4,
 "nbformat_minor": 5
}
